{
 "cells": [
  {
   "cell_type": "code",
   "execution_count": 1,
   "id": "de6410b1",
   "metadata": {},
   "outputs": [],
   "source": [
    "import pandas as pd\n",
    "import numpy as np\n",
    "import matplotlib.pyplot as plt\n",
    "import seaborn as sns\n",
    "from sklearn.model_selection import train_test_split, cross_val_score\n",
    "from sklearn.dummy import DummyRegressor\n",
    "from sklearn.linear_model import LinearRegression\n",
    "from sklearn.metrics import mean_squared_error\n",
    "from sklearn.preprocessing import StandardScaler\n",
    "from sklearn.metrics import r2_score"
   ]
  },
  {
   "cell_type": "code",
   "execution_count": 2,
   "id": "2a79e5b5",
   "metadata": {},
   "outputs": [],
   "source": [
    "import os\n",
    "df = pd.read_csv(\"AmesHousing.csv\")"
   ]
  },
  {
   "cell_type": "code",
   "execution_count": 3,
   "id": "e239e160",
   "metadata": {},
   "outputs": [
    {
     "data": {
      "text/plain": [
       "(2930, 82)"
      ]
     },
     "execution_count": 3,
     "metadata": {},
     "output_type": "execute_result"
    }
   ],
   "source": [
    "df.shape"
   ]
  },
  {
   "cell_type": "code",
   "execution_count": 5,
   "id": "bf359067",
   "metadata": {},
   "outputs": [
    {
     "data": {
      "text/html": [
       "<div>\n",
       "<style scoped>\n",
       "    .dataframe tbody tr th:only-of-type {\n",
       "        vertical-align: middle;\n",
       "    }\n",
       "\n",
       "    .dataframe tbody tr th {\n",
       "        vertical-align: top;\n",
       "    }\n",
       "\n",
       "    .dataframe thead th {\n",
       "        text-align: right;\n",
       "    }\n",
       "</style>\n",
       "<table border=\"1\" class=\"dataframe\">\n",
       "  <thead>\n",
       "    <tr style=\"text-align: right;\">\n",
       "      <th></th>\n",
       "      <th>Order</th>\n",
       "      <th>PID</th>\n",
       "      <th>MS SubClass</th>\n",
       "      <th>Lot Frontage</th>\n",
       "      <th>Lot Area</th>\n",
       "      <th>Overall Qual</th>\n",
       "      <th>Overall Cond</th>\n",
       "      <th>Year Built</th>\n",
       "      <th>Year Remod/Add</th>\n",
       "      <th>Mas Vnr Area</th>\n",
       "      <th>...</th>\n",
       "      <th>Sale Type_New</th>\n",
       "      <th>Sale Type_Oth</th>\n",
       "      <th>Sale Type_VWD</th>\n",
       "      <th>Sale Type_WD</th>\n",
       "      <th>Sale Condition_Abnorml</th>\n",
       "      <th>Sale Condition_AdjLand</th>\n",
       "      <th>Sale Condition_Alloca</th>\n",
       "      <th>Sale Condition_Family</th>\n",
       "      <th>Sale Condition_Normal</th>\n",
       "      <th>Sale Condition_Partial</th>\n",
       "    </tr>\n",
       "  </thead>\n",
       "  <tbody>\n",
       "    <tr>\n",
       "      <th>0</th>\n",
       "      <td>1</td>\n",
       "      <td>526301100</td>\n",
       "      <td>20</td>\n",
       "      <td>141.0</td>\n",
       "      <td>31770</td>\n",
       "      <td>6</td>\n",
       "      <td>5</td>\n",
       "      <td>1960</td>\n",
       "      <td>1960</td>\n",
       "      <td>112.0</td>\n",
       "      <td>...</td>\n",
       "      <td>0</td>\n",
       "      <td>0</td>\n",
       "      <td>0</td>\n",
       "      <td>1</td>\n",
       "      <td>0</td>\n",
       "      <td>0</td>\n",
       "      <td>0</td>\n",
       "      <td>0</td>\n",
       "      <td>1</td>\n",
       "      <td>0</td>\n",
       "    </tr>\n",
       "    <tr>\n",
       "      <th>1</th>\n",
       "      <td>2</td>\n",
       "      <td>526350040</td>\n",
       "      <td>20</td>\n",
       "      <td>80.0</td>\n",
       "      <td>11622</td>\n",
       "      <td>5</td>\n",
       "      <td>6</td>\n",
       "      <td>1961</td>\n",
       "      <td>1961</td>\n",
       "      <td>0.0</td>\n",
       "      <td>...</td>\n",
       "      <td>0</td>\n",
       "      <td>0</td>\n",
       "      <td>0</td>\n",
       "      <td>1</td>\n",
       "      <td>0</td>\n",
       "      <td>0</td>\n",
       "      <td>0</td>\n",
       "      <td>0</td>\n",
       "      <td>1</td>\n",
       "      <td>0</td>\n",
       "    </tr>\n",
       "    <tr>\n",
       "      <th>2</th>\n",
       "      <td>3</td>\n",
       "      <td>526351010</td>\n",
       "      <td>20</td>\n",
       "      <td>81.0</td>\n",
       "      <td>14267</td>\n",
       "      <td>6</td>\n",
       "      <td>6</td>\n",
       "      <td>1958</td>\n",
       "      <td>1958</td>\n",
       "      <td>108.0</td>\n",
       "      <td>...</td>\n",
       "      <td>0</td>\n",
       "      <td>0</td>\n",
       "      <td>0</td>\n",
       "      <td>1</td>\n",
       "      <td>0</td>\n",
       "      <td>0</td>\n",
       "      <td>0</td>\n",
       "      <td>0</td>\n",
       "      <td>1</td>\n",
       "      <td>0</td>\n",
       "    </tr>\n",
       "    <tr>\n",
       "      <th>3</th>\n",
       "      <td>4</td>\n",
       "      <td>526353030</td>\n",
       "      <td>20</td>\n",
       "      <td>93.0</td>\n",
       "      <td>11160</td>\n",
       "      <td>7</td>\n",
       "      <td>5</td>\n",
       "      <td>1968</td>\n",
       "      <td>1968</td>\n",
       "      <td>0.0</td>\n",
       "      <td>...</td>\n",
       "      <td>0</td>\n",
       "      <td>0</td>\n",
       "      <td>0</td>\n",
       "      <td>1</td>\n",
       "      <td>0</td>\n",
       "      <td>0</td>\n",
       "      <td>0</td>\n",
       "      <td>0</td>\n",
       "      <td>1</td>\n",
       "      <td>0</td>\n",
       "    </tr>\n",
       "    <tr>\n",
       "      <th>4</th>\n",
       "      <td>5</td>\n",
       "      <td>527105010</td>\n",
       "      <td>60</td>\n",
       "      <td>74.0</td>\n",
       "      <td>13830</td>\n",
       "      <td>5</td>\n",
       "      <td>5</td>\n",
       "      <td>1997</td>\n",
       "      <td>1998</td>\n",
       "      <td>0.0</td>\n",
       "      <td>...</td>\n",
       "      <td>0</td>\n",
       "      <td>0</td>\n",
       "      <td>0</td>\n",
       "      <td>1</td>\n",
       "      <td>0</td>\n",
       "      <td>0</td>\n",
       "      <td>0</td>\n",
       "      <td>0</td>\n",
       "      <td>1</td>\n",
       "      <td>0</td>\n",
       "    </tr>\n",
       "  </tbody>\n",
       "</table>\n",
       "<p>5 rows × 307 columns</p>\n",
       "</div>"
      ],
      "text/plain": [
       "   Order        PID  MS SubClass  Lot Frontage  Lot Area  Overall Qual  \\\n",
       "0      1  526301100           20         141.0     31770             6   \n",
       "1      2  526350040           20          80.0     11622             5   \n",
       "2      3  526351010           20          81.0     14267             6   \n",
       "3      4  526353030           20          93.0     11160             7   \n",
       "4      5  527105010           60          74.0     13830             5   \n",
       "\n",
       "   Overall Cond  Year Built  Year Remod/Add  Mas Vnr Area  ...  Sale Type_New  \\\n",
       "0             5        1960            1960         112.0  ...              0   \n",
       "1             6        1961            1961           0.0  ...              0   \n",
       "2             6        1958            1958         108.0  ...              0   \n",
       "3             5        1968            1968           0.0  ...              0   \n",
       "4             5        1997            1998           0.0  ...              0   \n",
       "\n",
       "   Sale Type_Oth  Sale Type_VWD  Sale Type_WD   Sale Condition_Abnorml  \\\n",
       "0              0              0              1                       0   \n",
       "1              0              0              1                       0   \n",
       "2              0              0              1                       0   \n",
       "3              0              0              1                       0   \n",
       "4              0              0              1                       0   \n",
       "\n",
       "   Sale Condition_AdjLand  Sale Condition_Alloca  Sale Condition_Family  \\\n",
       "0                       0                      0                      0   \n",
       "1                       0                      0                      0   \n",
       "2                       0                      0                      0   \n",
       "3                       0                      0                      0   \n",
       "4                       0                      0                      0   \n",
       "\n",
       "   Sale Condition_Normal  Sale Condition_Partial  \n",
       "0                      1                       0  \n",
       "1                      1                       0  \n",
       "2                      1                       0  \n",
       "3                      1                       0  \n",
       "4                      1                       0  \n",
       "\n",
       "[5 rows x 307 columns]"
      ]
     },
     "execution_count": 5,
     "metadata": {},
     "output_type": "execute_result"
    }
   ],
   "source": [
    "df1= pd.get_dummies(df)\n",
    "df1.head()"
   ]
  },
  {
   "cell_type": "code",
   "execution_count": 6,
   "id": "1ed1504c",
   "metadata": {},
   "outputs": [
    {
     "data": {
      "text/plain": [
       "Order                       0\n",
       "PID                         0\n",
       "MS SubClass                 0\n",
       "Lot Frontage              490\n",
       "Lot Area                    0\n",
       "                         ... \n",
       "Sale Condition_AdjLand      0\n",
       "Sale Condition_Alloca       0\n",
       "Sale Condition_Family       0\n",
       "Sale Condition_Normal       0\n",
       "Sale Condition_Partial      0\n",
       "Length: 307, dtype: int64"
      ]
     },
     "execution_count": 6,
     "metadata": {},
     "output_type": "execute_result"
    }
   ],
   "source": [
    "df1.columns[df1.isna().any()].tolist()\n",
    "\n",
    "#Number of NaN values columnwise\n",
    "df1.isna().sum()"
   ]
  },
  {
   "cell_type": "code",
   "execution_count": 7,
   "id": "e7b27cd7",
   "metadata": {},
   "outputs": [
    {
     "data": {
      "text/plain": [
       "['Garage Yr Blt']"
      ]
     },
     "execution_count": 7,
     "metadata": {},
     "output_type": "execute_result"
    }
   ],
   "source": [
    "def impute_median(series):\n",
    "    return series.fillna(series.median())\n",
    "df1['Lot Frontage']= df1['Lot Frontage'].transform(impute_median)\n",
    "df1['Mas Vnr Area']=df1['Mas Vnr Area'].transform(impute_median)\n",
    "df1['BsmtFin SF 1']=df1['BsmtFin SF 1'].transform(impute_median)\n",
    "df1['BsmtFin SF 2']=df1['BsmtFin SF 2'].transform(impute_median)\n",
    "df1['Bsmt Unf SF']=df1['Bsmt Unf SF'].transform(impute_median)\n",
    "df1['Total Bsmt SF']=df1['Total Bsmt SF'].transform(impute_median)\n",
    "df1['Bsmt Full Bath']=df1['Bsmt Full Bath'].transform(impute_median)\n",
    "df1['Bsmt Half Bath']=df1['Bsmt Half Bath'].transform(impute_median)\n",
    "df1['Garage Cars']=df1['Garage Cars'].transform(impute_median)\n",
    "df1['Garage Area']=df1['Garage Area'].transform(impute_median)\n",
    "#Check remaining columns with NaN values\n",
    "df1.columns[df1.isna().any()].tolist()"
   ]
  },
  {
   "cell_type": "code",
   "execution_count": 8,
   "id": "1bc41996",
   "metadata": {},
   "outputs": [],
   "source": [
    "df2=df1.drop('Garage Yr Blt',axis=1)\n"
   ]
  },
  {
   "cell_type": "code",
   "execution_count": 9,
   "id": "c8c6bd15",
   "metadata": {},
   "outputs": [],
   "source": [
    "#Define target array y\n",
    "y= df2['SalePrice'].values\n",
    "\n",
    "#Create feature array X\n",
    "X= df2.drop('SalePrice',axis=1).values"
   ]
  },
  {
   "cell_type": "code",
   "execution_count": 10,
   "id": "387b5f37",
   "metadata": {},
   "outputs": [
    {
     "data": {
      "text/plain": [
       "(2930, 305)"
      ]
     },
     "execution_count": 10,
     "metadata": {},
     "output_type": "execute_result"
    }
   ],
   "source": [
    "X.shape"
   ]
  },
  {
   "cell_type": "code",
   "execution_count": 11,
   "id": "714cbbbd",
   "metadata": {},
   "outputs": [
    {
     "data": {
      "text/plain": [
       "(2930,)"
      ]
     },
     "execution_count": 11,
     "metadata": {},
     "output_type": "execute_result"
    }
   ],
   "source": [
    "y.shape"
   ]
  },
  {
   "cell_type": "code",
   "execution_count": 12,
   "id": "574340db",
   "metadata": {},
   "outputs": [
    {
     "data": {
      "text/plain": [
       "(2930, 1)"
      ]
     },
     "execution_count": 12,
     "metadata": {},
     "output_type": "execute_result"
    }
   ],
   "source": [
    "y=y.reshape(-1,1)\n",
    "y.shape"
   ]
  },
  {
   "cell_type": "code",
   "execution_count": 13,
   "id": "a2415261",
   "metadata": {},
   "outputs": [],
   "source": [
    "X_train, X_test,y_train, y_test= train_test_split(X,y,test_size=0.3,random_state=42)"
   ]
  },
  {
   "cell_type": "code",
   "execution_count": 15,
   "id": "a25d6793",
   "metadata": {},
   "outputs": [
    {
     "name": "stdout",
     "output_type": "stream",
     "text": [
      "Mô hình hồi quy tuyến tính đã được huấn luyện, có các tham số:\n",
      "Intercept = [-2991353.05285091]\n",
      "Coefficients: [[ 2.91525289e+00  5.09552521e-06 -9.58085749e+01  5.58719525e+01\n",
      "   6.87156440e-01  6.29529927e+03  6.03226927e+03  3.69597140e+02\n",
      "   3.10492569e+01  2.05862641e+01  3.90754730e+02  3.83869658e+02\n",
      "   3.70544828e+02 -3.47313693e+02  1.77627550e+01  3.15233332e+01\n",
      "  -1.60771510e+01  3.32089163e+01  5.19265397e+02 -2.50368977e+02\n",
      "   2.35546845e+03  1.48057693e+03 -3.46583919e+03 -1.32271765e+04\n",
      "   4.72073460e+01  5.54546021e+03  5.57766490e+03  7.29141674e+00\n",
      "   1.43182197e+01  7.31505862e-01  4.17224255e+00  1.98061668e+01\n",
      "   4.79586128e+01 -9.15212109e+01 -8.95695064e-01  8.43802293e+01\n",
      "   1.02514117e+03  1.45276675e+04 -2.41747544e+04 -3.88227782e+03\n",
      "   3.81612162e+04 -2.73078347e+03 -7.21031420e+03 -1.46907538e+04\n",
      "  -1.15437447e+04  1.15437447e+04 -8.79446809e+02 -1.50055627e+03\n",
      "   1.54886438e+02  4.91066294e+03 -5.15884909e+03  9.32997060e+01\n",
      "  -8.33247815e+02  5.90117868e+03 -6.76375883e+03  1.69582797e+03\n",
      "   1.89159269e+04 -5.57753488e+03 -1.33383920e+04 -2.00115140e+03\n",
      "   3.61954241e+03 -4.89003664e+03  4.94146033e+03 -1.66981470e+03\n",
      "   1.14379647e+04  1.40819113e+04 -2.55198760e+04  9.92055736e+02\n",
      "   1.68005382e+03  8.58123609e+03 -2.25264815e+02 -1.16154976e+04\n",
      "  -1.29372834e+04  3.32646066e+03 -1.25570209e+04 -1.28549601e+04\n",
      "   8.63748513e+03  1.01479648e+05 -4.86589432e+03 -1.81267222e+04\n",
      "  -1.27623706e+04 -1.82490416e+04 -1.25398136e+04  4.84726335e+03\n",
      "  -1.53639648e+04  2.22195540e+04  1.31857041e+04 -8.64220102e+03\n",
      "  -1.17689024e+04 -8.89409224e+03 -1.41519776e+04  2.64658748e+03\n",
      "   3.22735573e+04 -1.44239622e+04 -9.89063619e+03 -8.60660290e+03\n",
      "  -1.20548689e+03  5.52503990e+03  2.34921500e+03  1.05102083e+04\n",
      "  -3.63658162e+02  4.90156752e+03 -1.10201942e+04 -2.09008857e+03\n",
      "  -2.26041166e+04 -8.33091482e+03  8.40146401e+03  4.38050059e+04\n",
      "   2.76032930e+03 -4.28337939e+04  6.72422074e+03  1.20778054e+04\n",
      "   6.56702063e+03  8.25700835e+03 -5.64739909e+03 -8.18246173e+03\n",
      "  -9.94168155e+02 -2.93900459e+03  7.25182229e+03  2.63076507e+03\n",
      "  -1.58236780e+04  8.42505430e+01 -2.09279662e+03  6.71107032e+03\n",
      "   4.17757103e+03 -2.28564923e+03  2.53436998e+03  1.65766499e+03\n",
      "   1.98885948e+03 -2.38231776e+04  1.99279324e+04 -6.21978465e+05\n",
      "   7.33431518e+04  1.39312434e+05  1.20986225e+05 -4.44288162e-10\n",
      "   7.30421321e+04  8.14718090e+04  1.33822713e+05  2.15454377e+03\n",
      "  -1.78908561e+04  2.32057703e+04  1.85542012e+04 -1.23674398e+04\n",
      "   1.12282873e+04 -2.90896523e+03 -1.75370896e+04  2.63339187e+03\n",
      "   2.18093588e+01  5.96628524e-10 -4.56927663e+03  2.88847801e+03\n",
      "  -5.40610314e+03  2.09111843e+03 -2.09786972e+03 -5.99954097e+03\n",
      "   2.80990867e+04  4.14667098e+03 -8.38074800e+03  4.22827004e+03\n",
      "  -5.31668118e+03 -3.07329435e+02  5.92856342e+03 -8.53584173e+02\n",
      "   1.01863407e-10 -2.46794906e+03 -1.74622983e-10 -2.70491583e+04\n",
      "   3.03709452e+03  6.94491631e+03 -2.39770011e+03  3.88089279e+02\n",
      "  -8.64049166e+02 -1.22205770e+03 -8.04524391e+04  3.18117545e+03\n",
      "   4.61041401e+03  9.74089621e+03  1.82516230e+03 -5.58861593e+03\n",
      "  -5.97744258e+03 -1.79543583e+03 -4.39879740e+03  1.28680168e+03\n",
      "   1.19125655e+03  3.71617500e+03  1.59968801e+03 -7.53151870e+02\n",
      "   1.79265467e+03 -1.18749659e+02  1.74322575e+04 -1.99526987e+04\n",
      "  -3.06163851e+03 -1.65619640e+04 -2.02671547e+04  7.98674968e+03\n",
      "  -1.75358294e+04 -2.27365788e+04 -7.95701068e+03 -1.06449753e+04\n",
      "   2.22291550e+03 -1.03241877e+04  3.60369868e+03  1.07985089e+04\n",
      "  -3.27694247e+03 -2.92168415e+03 -8.83234309e+03 -8.69800789e+03\n",
      "  -3.33474617e+03 -1.23879334e+04 -1.09315508e+04 -5.25525556e+03\n",
      "   2.98034897e+04  2.38161379e+04  3.81622649e+04  1.86245703e+04\n",
      "   2.03685896e+04  2.38544462e+04  1.76613396e+03  4.39601888e+03\n",
      "   1.05781794e+03 -9.41610289e+03 -2.10285153e+04  2.32246474e+04\n",
      "   2.61598989e+03  4.75508648e+02  5.93676096e+02 -3.18929736e+03\n",
      "  -4.95877277e+02  5.27586586e+02 -5.27586586e+02 -1.25017878e+03\n",
      "  -2.97634063e+03  2.60991317e+03  2.22291550e+03 -6.06309264e+02\n",
      "   1.90552828e+04 -9.40340318e+03 -4.16616027e+03  2.91038305e-11\n",
      "  -5.48571932e+03 -5.64315202e+03  1.11669775e+04  1.72794727e+04\n",
      "   1.73560319e+04  9.30056035e+03 -7.36291837e+04 -1.69256984e+03\n",
      "   2.58618631e+04  2.09215877e+03 -7.61059308e+03 -4.38658533e+03\n",
      "   7.29854123e+02 -4.82563969e+03 -3.98508661e+04 -3.07604601e+04\n",
      "  -2.66859865e+04 -2.86354780e+04 -3.65532892e+04 -2.94421730e+04\n",
      "   1.28974759e+04  9.74510927e+03  1.26775195e+04  6.79491434e+04\n",
      "  -1.18864993e+04  8.48123714e+03 -1.82848641e+04 -1.09389124e+04\n",
      "  -4.05228522e+04  1.52574785e+04  1.93646009e+04  2.08973141e+04\n",
      "   2.03235635e+04  1.52255836e+03 -1.52856870e+03  6.01034812e+00\n",
      "   1.39404549e+05  0.00000000e+00  8.54933375e+04  4.90283426e+04\n",
      "  -3.67136314e+03  3.98322158e+03  2.13551280e+03 -3.43123733e+03\n",
      "  -5.27207903e+05  1.96402070e+04  2.62984925e+04  1.40692490e+03\n",
      "   0.00000000e+00 -7.66708093e+03  9.34128125e+02  2.20878215e+04\n",
      "  -3.32664990e+03 -7.89303406e+03 -3.03183040e+03  7.81829739e+03\n",
      "  -1.74199904e+03  0.00000000e+00 -7.17965271e+03 -1.05092629e+04\n",
      "   1.07875381e+04  9.73950661e+03 -4.71654980e+03 -3.54547828e+02\n",
      "  -4.94668415e+03]]\n"
     ]
    }
   ],
   "source": [
    "#Create a regressor object\n",
    "LR= LinearRegression()\n",
    "\n",
    "#Fit training set to the regressor\n",
    "LR.fit(X_train,y_train)\n",
    "\n",
    "print(\"Mô hình hồi quy tuyến tính đã được huấn luyện, có các tham số:\")\n",
    "print(\"Intercept =\", LR.intercept_)\n",
    "print(\"Coefficients:\", LR.coef_)"
   ]
  },
  {
   "cell_type": "code",
   "execution_count": 16,
   "id": "0c0e07ff",
   "metadata": {},
   "outputs": [],
   "source": [
    "#Make predictions with the regressor\n",
    "y_prediction = LR.predict(X_test)"
   ]
  },
  {
   "cell_type": "code",
   "execution_count": 18,
   "id": "a751225a",
   "metadata": {},
   "outputs": [
    {
     "name": "stdout",
     "output_type": "stream",
     "text": [
      "R2-score is  0.8955304226952503\n",
      "Mean_sqrd_error is== 734361363.6168584\n",
      "Root_mean_squared error of is== 27099.102634900264\n"
     ]
    }
   ],
   "source": [
    "# Calculate R2-score\n",
    "score=r2_score(y_test,y_prediction)\n",
    "print('R2-score is ',score)\n",
    "print('Mean_sqrd_error is==',mean_squared_error(y_test,y_prediction))\n",
    "print('Root_mean_squared error of is==',np.sqrt(mean_squared_error(y_test,y_prediction)))"
   ]
  },
  {
   "cell_type": "code",
   "execution_count": null,
   "id": "88399b38",
   "metadata": {},
   "outputs": [],
   "source": []
  }
 ],
 "metadata": {
  "kernelspec": {
   "display_name": "Python 3 (ipykernel)",
   "language": "python",
   "name": "python3"
  },
  "language_info": {
   "codemirror_mode": {
    "name": "ipython",
    "version": 3
   },
   "file_extension": ".py",
   "mimetype": "text/x-python",
   "name": "python",
   "nbconvert_exporter": "python",
   "pygments_lexer": "ipython3",
   "version": "3.11.4"
  }
 },
 "nbformat": 4,
 "nbformat_minor": 5
}
